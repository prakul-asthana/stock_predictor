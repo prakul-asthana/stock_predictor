{
 "cells": [
  {
   "cell_type": "code",
   "execution_count": 1,
   "metadata": {},
   "outputs": [
    {
     "name": "stderr",
     "output_type": "stream",
     "text": [
      "/home/prakul/datares/stock_predictor/venv_stock_predictor/lib/python3.7/site-packages/sklearn/externals/joblib/__init__.py:15: DeprecationWarning: sklearn.externals.joblib is deprecated in 0.21 and will be removed in 0.23. Please import this functionality directly from joblib, which can be installed with: pip install joblib. If this warning is raised when loading pickled models, you may need to re-serialize those models with scikit-learn 0.21+.\n",
      "  warnings.warn(msg, category=DeprecationWarning)\n"
     ]
    }
   ],
   "source": [
    "import pandas as pd\n",
    "import numpy as np\n",
    "import os\n",
    "import sys\n",
    "import matplotlib.pyplot as plt\n",
    "sys.path.insert(1, \"../lib/\")\n",
    "from utils import *\n",
    "%matplotlib inline\n",
    "from sklearn.preprocessing import MinMaxScaler\n",
    "from sklearn.model_selection import train_test_split"
   ]
  },
  {
   "cell_type": "markdown",
   "metadata": {},
   "source": [
    "# Reading Merged files from Path"
   ]
  },
  {
   "cell_type": "code",
   "execution_count": 2,
   "metadata": {},
   "outputs": [
    {
     "name": "stderr",
     "output_type": "stream",
     "text": [
      "/home/prakul/datares/stock_predictor/venv_stock_predictor/lib/python3.7/site-packages/numpy/lib/arraysetops.py:568: FutureWarning: elementwise comparison failed; returning scalar instead, but in the future will perform elementwise comparison\n",
      "  mask |= (ar1 == a)\n"
     ]
    }
   ],
   "source": [
    "stocks = pd.read_csv(\"../data/Stocks_merged.csv\",index_col = 0)\n",
    "stocks[\"Date\"] = pd.to_datetime(stocks[\"Date\"])\n",
    "stocks = stocks.set_index(\"Date\",drop=True)\n",
    "etf = pd.read_csv(\"../data/ETF_merged.csv\",index_col = 0)\n",
    "etf[\"Date\"] = pd.to_datetime(etf[\"Date\"])\n",
    "etf = etf.set_index(\"Date\",drop=True)"
   ]
  },
  {
   "cell_type": "code",
   "execution_count": 3,
   "metadata": {},
   "outputs": [
    {
     "data": {
      "text/html": [
       "<div>\n",
       "<style scoped>\n",
       "    .dataframe tbody tr th:only-of-type {\n",
       "        vertical-align: middle;\n",
       "    }\n",
       "\n",
       "    .dataframe tbody tr th {\n",
       "        vertical-align: top;\n",
       "    }\n",
       "\n",
       "    .dataframe thead th {\n",
       "        text-align: right;\n",
       "    }\n",
       "</style>\n",
       "<table border=\"1\" class=\"dataframe\">\n",
       "  <thead>\n",
       "    <tr style=\"text-align: right;\">\n",
       "      <th></th>\n",
       "      <th>Open</th>\n",
       "      <th>High</th>\n",
       "      <th>Low</th>\n",
       "      <th>Close</th>\n",
       "      <th>Volume</th>\n",
       "      <th>OpenInt</th>\n",
       "      <th>symbol</th>\n",
       "    </tr>\n",
       "    <tr>\n",
       "      <th>Date</th>\n",
       "      <th></th>\n",
       "      <th></th>\n",
       "      <th></th>\n",
       "      <th></th>\n",
       "      <th></th>\n",
       "      <th></th>\n",
       "      <th></th>\n",
       "    </tr>\n",
       "  </thead>\n",
       "  <tbody>\n",
       "    <tr>\n",
       "      <th>2005-02-25</th>\n",
       "      <td>4.99</td>\n",
       "      <td>5.14</td>\n",
       "      <td>4.90</td>\n",
       "      <td>5.14</td>\n",
       "      <td>32101</td>\n",
       "      <td>0</td>\n",
       "      <td>ntct.us.txt</td>\n",
       "    </tr>\n",
       "    <tr>\n",
       "      <th>2005-02-28</th>\n",
       "      <td>5.12</td>\n",
       "      <td>5.19</td>\n",
       "      <td>5.06</td>\n",
       "      <td>5.19</td>\n",
       "      <td>16402</td>\n",
       "      <td>0</td>\n",
       "      <td>ntct.us.txt</td>\n",
       "    </tr>\n",
       "    <tr>\n",
       "      <th>2005-03-01</th>\n",
       "      <td>5.18</td>\n",
       "      <td>5.19</td>\n",
       "      <td>5.05</td>\n",
       "      <td>5.07</td>\n",
       "      <td>16500</td>\n",
       "      <td>0</td>\n",
       "      <td>ntct.us.txt</td>\n",
       "    </tr>\n",
       "    <tr>\n",
       "      <th>2005-03-02</th>\n",
       "      <td>5.05</td>\n",
       "      <td>5.23</td>\n",
       "      <td>5.05</td>\n",
       "      <td>5.15</td>\n",
       "      <td>26071</td>\n",
       "      <td>0</td>\n",
       "      <td>ntct.us.txt</td>\n",
       "    </tr>\n",
       "    <tr>\n",
       "      <th>2005-03-03</th>\n",
       "      <td>5.21</td>\n",
       "      <td>5.21</td>\n",
       "      <td>5.02</td>\n",
       "      <td>5.10</td>\n",
       "      <td>8618</td>\n",
       "      <td>0</td>\n",
       "      <td>ntct.us.txt</td>\n",
       "    </tr>\n",
       "  </tbody>\n",
       "</table>\n",
       "</div>"
      ],
      "text/plain": [
       "            Open  High   Low  Close  Volume  OpenInt       symbol\n",
       "Date                                                             \n",
       "2005-02-25  4.99  5.14  4.90   5.14   32101        0  ntct.us.txt\n",
       "2005-02-28  5.12  5.19  5.06   5.19   16402        0  ntct.us.txt\n",
       "2005-03-01  5.18  5.19  5.05   5.07   16500        0  ntct.us.txt\n",
       "2005-03-02  5.05  5.23  5.05   5.15   26071        0  ntct.us.txt\n",
       "2005-03-03  5.21  5.21  5.02   5.10    8618        0  ntct.us.txt"
      ]
     },
     "execution_count": 3,
     "metadata": {},
     "output_type": "execute_result"
    }
   ],
   "source": [
    "stocks.head()"
   ]
  },
  {
   "cell_type": "code",
   "execution_count": 4,
   "metadata": {},
   "outputs": [
    {
     "data": {
      "text/html": [
       "<div>\n",
       "<style scoped>\n",
       "    .dataframe tbody tr th:only-of-type {\n",
       "        vertical-align: middle;\n",
       "    }\n",
       "\n",
       "    .dataframe tbody tr th {\n",
       "        vertical-align: top;\n",
       "    }\n",
       "\n",
       "    .dataframe thead th {\n",
       "        text-align: right;\n",
       "    }\n",
       "</style>\n",
       "<table border=\"1\" class=\"dataframe\">\n",
       "  <thead>\n",
       "    <tr style=\"text-align: right;\">\n",
       "      <th></th>\n",
       "      <th>Open</th>\n",
       "      <th>High</th>\n",
       "      <th>Low</th>\n",
       "      <th>Close</th>\n",
       "      <th>Volume</th>\n",
       "      <th>OpenInt</th>\n",
       "      <th>symbol</th>\n",
       "    </tr>\n",
       "    <tr>\n",
       "      <th>Date</th>\n",
       "      <th></th>\n",
       "      <th></th>\n",
       "      <th></th>\n",
       "      <th></th>\n",
       "      <th></th>\n",
       "      <th></th>\n",
       "      <th></th>\n",
       "    </tr>\n",
       "  </thead>\n",
       "  <tbody>\n",
       "    <tr>\n",
       "      <th>2015-03-12</th>\n",
       "      <td>23.019</td>\n",
       "      <td>23.032</td>\n",
       "      <td>22.985</td>\n",
       "      <td>22.985</td>\n",
       "      <td>3025</td>\n",
       "      <td>0</td>\n",
       "      <td>ibdp.us.txt</td>\n",
       "    </tr>\n",
       "    <tr>\n",
       "      <th>2015-03-13</th>\n",
       "      <td>22.961</td>\n",
       "      <td>22.968</td>\n",
       "      <td>22.925</td>\n",
       "      <td>22.925</td>\n",
       "      <td>1733</td>\n",
       "      <td>0</td>\n",
       "      <td>ibdp.us.txt</td>\n",
       "    </tr>\n",
       "    <tr>\n",
       "      <th>2015-03-16</th>\n",
       "      <td>23.054</td>\n",
       "      <td>23.054</td>\n",
       "      <td>23.054</td>\n",
       "      <td>23.054</td>\n",
       "      <td>429</td>\n",
       "      <td>0</td>\n",
       "      <td>ibdp.us.txt</td>\n",
       "    </tr>\n",
       "    <tr>\n",
       "      <th>2015-03-19</th>\n",
       "      <td>23.119</td>\n",
       "      <td>23.119</td>\n",
       "      <td>23.119</td>\n",
       "      <td>23.119</td>\n",
       "      <td>429</td>\n",
       "      <td>0</td>\n",
       "      <td>ibdp.us.txt</td>\n",
       "    </tr>\n",
       "    <tr>\n",
       "      <th>2015-03-23</th>\n",
       "      <td>23.119</td>\n",
       "      <td>23.119</td>\n",
       "      <td>23.119</td>\n",
       "      <td>23.119</td>\n",
       "      <td>4</td>\n",
       "      <td>0</td>\n",
       "      <td>ibdp.us.txt</td>\n",
       "    </tr>\n",
       "  </tbody>\n",
       "</table>\n",
       "</div>"
      ],
      "text/plain": [
       "              Open    High     Low   Close  Volume  OpenInt       symbol\n",
       "Date                                                                    \n",
       "2015-03-12  23.019  23.032  22.985  22.985    3025        0  ibdp.us.txt\n",
       "2015-03-13  22.961  22.968  22.925  22.925    1733        0  ibdp.us.txt\n",
       "2015-03-16  23.054  23.054  23.054  23.054     429        0  ibdp.us.txt\n",
       "2015-03-19  23.119  23.119  23.119  23.119     429        0  ibdp.us.txt\n",
       "2015-03-23  23.119  23.119  23.119  23.119       4        0  ibdp.us.txt"
      ]
     },
     "execution_count": 4,
     "metadata": {},
     "output_type": "execute_result"
    }
   ],
   "source": [
    "etf.head()"
   ]
  },
  {
   "cell_type": "markdown",
   "metadata": {},
   "source": [
    "# Selecting top 10 stocks with most data points for plotting"
   ]
  },
  {
   "cell_type": "code",
   "execution_count": 5,
   "metadata": {},
   "outputs": [],
   "source": [
    "stocks_most_data_points = stocks.groupby(\"symbol\")[\"Close\"].count().sort_values(ascending=False)[:10].index.to_list()"
   ]
  },
  {
   "cell_type": "code",
   "execution_count": 6,
   "metadata": {
    "scrolled": true
   },
   "outputs": [
    {
     "data": {
      "text/plain": [
       "['ibm.us.txt',\n",
       " 'ge.us.txt',\n",
       " 'cat.us.txt',\n",
       " 'nav.us.txt',\n",
       " 'mcd.us.txt',\n",
       " 'dte.us.txt',\n",
       " 'mmm.us.txt',\n",
       " 'mrk.us.txt',\n",
       " 'ip.us.txt',\n",
       " 'aep.us.txt']"
      ]
     },
     "execution_count": 6,
     "metadata": {},
     "output_type": "execute_result"
    }
   ],
   "source": [
    "# Selected Stocks\n",
    "stocks_most_data_points"
   ]
  },
  {
   "cell_type": "code",
   "execution_count": 7,
   "metadata": {},
   "outputs": [
    {
     "name": "stderr",
     "output_type": "stream",
     "text": [
      "/home/prakul/datares/stock_predictor/venv_stock_predictor/lib/python3.7/site-packages/pandas/plotting/_matplotlib/converter.py:103: FutureWarning: Using an implicitly registered datetime converter for a matplotlib plotting method. The converter was registered by pandas on import. Future versions of pandas will require you to explicitly register matplotlib converters.\n",
      "\n",
      "To register the converters:\n",
      "\t>>> from pandas.plotting import register_matplotlib_converters\n",
      "\t>>> register_matplotlib_converters()\n",
      "  warnings.warn(msg, FutureWarning)\n"
     ]
    },
    {
     "data": {
      "image/png": "[encoded data removed]",
      "text/plain": [
       "<Figure size 1440x720 with 10 Axes>"
      ]
     },
     "metadata": {
      "needs_background": "light"
     },
     "output_type": "display_data"
    }
   ],
   "source": [
    "f = plt.figure(figsize=(20,10))\n",
    "\n",
    "for i in range(len(stocks_most_data_points)):\n",
    "    stock = stocks.loc[stocks[\"symbol\"] == stocks_most_data_points[i]]\n",
    "    ax = f.add_subplot(5,2,i+1)\n",
    "    plt.subplots_adjust(hspace = 0.8)\n",
    "#     plt.figure(figsize=(6,5))\n",
    "    ax.plot(stock[\"Close\"],\"--\",)\n",
    "    plt.title(stocks_most_data_points[i])"
   ]
  },
  {
   "cell_type": "markdown",
   "metadata": {},
   "source": [
    "## Checking nulls"
   ]
  },
  {
   "cell_type": "code",
   "execution_count": 8,
   "metadata": {},
   "outputs": [
    {
     "data": {
      "text/plain": [
       "Open       0\n",
       "High       0\n",
       "Low        0\n",
       "Close      0\n",
       "Volume     0\n",
       "OpenInt    0\n",
       "symbol     0\n",
       "dtype: int64"
      ]
     },
     "execution_count": 8,
     "metadata": {},
     "output_type": "execute_result"
    }
   ],
   "source": [
    "stocks.isna().sum()"
   ]
  },
  {
   "cell_type": "markdown",
   "metadata": {},
   "source": [
    "No nulls so we can proceed with building pipelines"
   ]
  },
  {
   "cell_type": "markdown",
   "metadata": {},
   "source": [
    "### To save time we will do following steps with just one stock"
   ]
  },
  {
   "cell_type": "code",
   "execution_count": 10,
   "metadata": {},
   "outputs": [
    {
     "data": {
      "text/html": [
       "<div>\n",
       "<style scoped>\n",
       "    .dataframe tbody tr th:only-of-type {\n",
       "        vertical-align: middle;\n",
       "    }\n",
       "\n",
       "    .dataframe tbody tr th {\n",
       "        vertical-align: top;\n",
       "    }\n",
       "\n",
       "    .dataframe thead th {\n",
       "        text-align: right;\n",
       "    }\n",
       "</style>\n",
       "<table border=\"1\" class=\"dataframe\">\n",
       "  <thead>\n",
       "    <tr style=\"text-align: right;\">\n",
       "      <th></th>\n",
       "      <th>Open</th>\n",
       "      <th>High</th>\n",
       "      <th>Low</th>\n",
       "      <th>Close</th>\n",
       "      <th>Volume</th>\n",
       "      <th>OpenInt</th>\n",
       "      <th>symbol</th>\n",
       "    </tr>\n",
       "    <tr>\n",
       "      <th>Date</th>\n",
       "      <th></th>\n",
       "      <th></th>\n",
       "      <th></th>\n",
       "      <th></th>\n",
       "      <th></th>\n",
       "      <th></th>\n",
       "      <th></th>\n",
       "    </tr>\n",
       "  </thead>\n",
       "  <tbody>\n",
       "    <tr>\n",
       "      <th>1970-01-02</th>\n",
       "      <td>0.9310</td>\n",
       "      <td>0.9625</td>\n",
       "      <td>0.9310</td>\n",
       "      <td>0.9625</td>\n",
       "      <td>8180</td>\n",
       "      <td>0</td>\n",
       "      <td>dte.us.txt</td>\n",
       "    </tr>\n",
       "    <tr>\n",
       "      <th>1970-01-05</th>\n",
       "      <td>0.9625</td>\n",
       "      <td>0.9938</td>\n",
       "      <td>0.9625</td>\n",
       "      <td>0.9860</td>\n",
       "      <td>5115</td>\n",
       "      <td>0</td>\n",
       "      <td>dte.us.txt</td>\n",
       "    </tr>\n",
       "    <tr>\n",
       "      <th>1970-01-06</th>\n",
       "      <td>0.9860</td>\n",
       "      <td>1.0018</td>\n",
       "      <td>0.9860</td>\n",
       "      <td>0.9860</td>\n",
       "      <td>14183</td>\n",
       "      <td>0</td>\n",
       "      <td>dte.us.txt</td>\n",
       "    </tr>\n",
       "    <tr>\n",
       "      <th>1970-01-07</th>\n",
       "      <td>0.9860</td>\n",
       "      <td>1.0018</td>\n",
       "      <td>0.9860</td>\n",
       "      <td>0.9860</td>\n",
       "      <td>10990</td>\n",
       "      <td>0</td>\n",
       "      <td>dte.us.txt</td>\n",
       "    </tr>\n",
       "    <tr>\n",
       "      <th>1970-01-08</th>\n",
       "      <td>0.9860</td>\n",
       "      <td>1.0018</td>\n",
       "      <td>0.9860</td>\n",
       "      <td>1.0018</td>\n",
       "      <td>7799</td>\n",
       "      <td>0</td>\n",
       "      <td>dte.us.txt</td>\n",
       "    </tr>\n",
       "  </tbody>\n",
       "</table>\n",
       "</div>"
      ],
      "text/plain": [
       "              Open    High     Low   Close  Volume  OpenInt      symbol\n",
       "Date                                                                   \n",
       "1970-01-02  0.9310  0.9625  0.9310  0.9625    8180        0  dte.us.txt\n",
       "1970-01-05  0.9625  0.9938  0.9625  0.9860    5115        0  dte.us.txt\n",
       "1970-01-06  0.9860  1.0018  0.9860  0.9860   14183        0  dte.us.txt\n",
       "1970-01-07  0.9860  1.0018  0.9860  0.9860   10990        0  dte.us.txt\n",
       "1970-01-08  0.9860  1.0018  0.9860  1.0018    7799        0  dte.us.txt"
      ]
     },
     "execution_count": 10,
     "metadata": {},
     "output_type": "execute_result"
    }
   ],
   "source": [
    "stock = stocks.loc[stocks[\"symbol\"] == stocks_most_data_points[5]]\n",
    "stock.head()"
   ]
  },
  {
   "cell_type": "code",
   "execution_count": 11,
   "metadata": {},
   "outputs": [],
   "source": [
    "data = stock.copy()"
   ]
  },
  {
   "cell_type": "markdown",
   "metadata": {},
   "source": [
    "# building matrix for data"
   ]
  },
  {
   "cell_type": "code",
   "execution_count": 12,
   "metadata": {},
   "outputs": [
    {
     "data": {
      "text/plain": [
       "'\\nNumber of predictions after which to update the weights, \\nhere neural network will predict values for 30 days before calculating loss and updating weights\\n'"
      ]
     },
     "execution_count": 12,
     "metadata": {},
     "output_type": "execute_result"
    }
   ],
   "source": [
    "TIME_STEPS = 60\n",
    "'''\n",
    "The number of previous days Neural network will look at data for to predict next value,\n",
    "Here neural network will look at values of previous 60 days before predicting the next value\n",
    "'''\n",
    "BATCH_SIZE = 30\n",
    "'''\n",
    "Number of predictions after which to update the weights, \n",
    "here neural network will predict values for 30 days before calculating loss and updating weights\n",
    "'''"
   ]
  },
  {
   "cell_type": "code",
   "execution_count": 13,
   "metadata": {},
   "outputs": [],
   "source": [
    "def build_timeseries(mat, y_col_index):\n",
    "    '''\n",
    "    y_col_index is the index of column that would act as output column\n",
    "    total number of time-series samples would be len(mat) - TIME_STEPS\n",
    "    '''\n",
    "    \n",
    "    dim_0 = mat.shape[0] - TIME_STEPS\n",
    "    dim_1 = mat.shape[1] # dim 1 of matrix is number of features\n",
    "    x = np.zeros((dim_0, TIME_STEPS, dim_1))\n",
    "    ''' \n",
    "    the returned matrix X will have no. of rows = No. of observations\n",
    "    Columns = No. of Time steps , \n",
    "    Layers = No. of features so there will be one layer for each of Open, High, Low, Volume\n",
    "    '''\n",
    "    y = np.zeros((dim_0,))\n",
    "    \n",
    "    for i in range(dim_0):\n",
    "        x[i] = mat[i:TIME_STEPS+i]\n",
    "        y[i] = mat[TIME_STEPS+i, y_col_index]\n",
    "    print(\"length of time-series i/o\",x.shape,y.shape)\n",
    "    return x, y"
   ]
  },
  {
   "cell_type": "code",
   "execution_count": 14,
   "metadata": {},
   "outputs": [],
   "source": [
    "def trim_dataset(mat, batch_size):\n",
    "    \"\"\"\n",
    "    trims dataset to a size that's divisible by BATCH_SIZE\n",
    "    \"\"\"\n",
    "    no_of_rows_drop = mat.shape[0]%batch_size\n",
    "    if(no_of_rows_drop > 0):\n",
    "        return mat[:-no_of_rows_drop]\n",
    "    else:\n",
    "        return mat"
   ]
  },
  {
   "cell_type": "markdown",
   "metadata": {},
   "source": [
    "## Preprocessing"
   ]
  },
  {
   "cell_type": "code",
   "execution_count": 49,
   "metadata": {},
   "outputs": [],
   "source": [
    "def preproc_pipeline(data, look_back, batch_size, needs_processing=False):\n",
    "    \n",
    "    if needs_processing:\n",
    "        stocks, etf = fetch_data()\n",
    "        data = pd.concat([stocks, etf])\n",
    "        generate_ta(data)\n",
    "    \n",
    "    train_cols = list(data.columns)\n",
    "    train_cols.remove(\"symbol\")\n",
    "    x = data[train_cols].values\n",
    "    global min_max_scaler\n",
    "    min_max_scaler = MinMaxScaler()\n",
    "    \n",
    "    X_train, X_test = train_test_split(x, train_size=0.75, test_size=0.25, shuffle=False)\n",
    "    X_train = min_max_scaler.fit_transform(X_train)\n",
    "    X_test = min_max_scaler.transform(X_test)\n",
    "    \n",
    "    x_t_train, y_t_train = build_timeseries(X_train, 3)#Close price is 4th column with index of 3\n",
    "    x_t_train = trim_dataset(x_t_train, BATCH_SIZE)#droping any additional rows from independent variables\n",
    "    y_t_train = trim_dataset(y_t_train, BATCH_SIZE)#droping any additional rows from dependent variables\n",
    "    \n",
    "    x_t_test, y_t_test = build_timeseries(X_test, 3)#Close price is 4th column with index of 3\n",
    "    x_t_test = trim_dataset(x_t_test, BATCH_SIZE)#droping any additional rows from independent variables\n",
    "    y_t_test = trim_dataset(y_t_test, BATCH_SIZE)#droping any additional rows from dependent variables\n",
    "    \n",
    "    print(\"Train and Test size\", len(x_t_train), len(x_t_test))\n",
    "    \n",
    "    return x_t_train,x_t_test,y_t_train,y_t_test"
   ]
  },
  {
   "cell_type": "code",
   "execution_count": 50,
   "metadata": {},
   "outputs": [
    {
     "name": "stderr",
     "output_type": "stream",
     "text": [
      "/home/prakul/datares/stock_predictor/venv_stock_predictor/lib/python3.7/site-packages/ta/trend.py:543: RuntimeWarning: invalid value encountered in double_scalars\n",
      "  dip[i] = 100 * (self._dip[i]/self._trs[i])\n",
      "/home/prakul/datares/stock_predictor/venv_stock_predictor/lib/python3.7/site-packages/ta/trend.py:547: RuntimeWarning: invalid value encountered in double_scalars\n",
      "  din[i] = 100 * (self._din[i]/self._trs[i])\n"
     ]
    },
    {
     "name": "stdout",
     "output_type": "stream",
     "text": [
      "length of time-series i/o (8996, 60, 67) (8996,)\n",
      "length of time-series i/o (2959, 60, 67) (2959,)\n",
      "Train and Test size 8970 2940\n"
     ]
    }
   ],
   "source": [
    "generate_ta(data)\n",
    "x_t_train,x_t_test,y_t_train,y_t_test = preproc_pipeline(data, look_back=TIME_STEPS, batch_size=BATCH_SIZE, needs_processing=False)"
   ]
  },
  {
   "cell_type": "code",
   "execution_count": 51,
   "metadata": {},
   "outputs": [
    {
     "data": {
      "text/plain": [
       "(8970, 60, 67)"
      ]
     },
     "execution_count": 51,
     "metadata": {},
     "output_type": "execute_result"
    }
   ],
   "source": [
    "x_t_train.shape"
   ]
  },
  {
   "cell_type": "code",
   "execution_count": 52,
   "metadata": {},
   "outputs": [
    {
     "data": {
      "text/plain": [
       "(8970,)"
      ]
     },
     "execution_count": 52,
     "metadata": {},
     "output_type": "execute_result"
    }
   ],
   "source": [
    "y_t_train.shape"
   ]
  },
  {
   "cell_type": "code",
   "execution_count": 53,
   "metadata": {},
   "outputs": [],
   "source": [
    "x_t_val,x_t_test = np.split(x_t_test, 2)\n",
    "y_t_val,y_t_test = np.split(y_t_test, 2)"
   ]
  },
  {
   "cell_type": "code",
   "execution_count": 54,
   "metadata": {},
   "outputs": [
    {
     "data": {
      "text/plain": [
       "(1470, 60, 67)"
      ]
     },
     "execution_count": 54,
     "metadata": {},
     "output_type": "execute_result"
    }
   ],
   "source": [
    "x_t_val.shape"
   ]
  },
  {
   "cell_type": "markdown",
   "metadata": {},
   "source": [
    "# Building Model"
   ]
  },
  {
   "cell_type": "code",
   "execution_count": 63,
   "metadata": {},
   "outputs": [],
   "source": [
    "from keras.models import Sequential, load_model\n",
    "from keras.layers import Dense, Dropout\n",
    "from keras.layers import LSTM\n",
    "from keras import optimizers"
   ]
  },
  {
   "cell_type": "code",
   "execution_count": 72,
   "metadata": {},
   "outputs": [],
   "source": [
    "lstm_model = Sequential()\n",
    "lstm_model.add(LSTM(20,return_sequences=True, batch_input_shape=(BATCH_SIZE, TIME_STEPS, x_t_train.shape[2]), dropout=0.0, recurrent_dropout=0.0, stateful=True,     kernel_initializer='random_uniform'))\n",
    "lstm_model.add(Dropout(0.4))\n",
    "lstm_model.add(LSTM(10, dropout=0.0))\n",
    "lstm_model.add(Dropout(0.4))\n",
    "lstm_model.add(Dense(5,activation='relu'))\n",
    "lstm_model.add(Dense(1,activation='sigmoid'))\n",
    "optimizer = optimizers.RMSprop(lr=0.001)\n",
    "lstm_model.compile(loss='mean_squared_error', optimizer=optimizer)"
   ]
  },
  {
   "cell_type": "code",
   "execution_count": 73,
   "metadata": {},
   "outputs": [
    {
     "name": "stdout",
     "output_type": "stream",
     "text": [
      "Train on 8970 samples, validate on 1470 samples\n",
      "Epoch 1/5\n",
      " - 7s - loss: 0.0509 - val_loss: 0.0297\n",
      "Epoch 2/5\n",
      " - 7s - loss: 0.0264 - val_loss: 0.0211\n",
      "Epoch 3/5\n",
      " - 6s - loss: 0.0082 - val_loss: 0.0186\n",
      "Epoch 4/5\n",
      " - 7s - loss: 0.0051 - val_loss: 0.0162\n",
      "Epoch 5/5\n",
      " - 7s - loss: 0.0036 - val_loss: 0.0161\n"
     ]
    }
   ],
   "source": [
    "history = lstm_model.fit(x_t_train, y_t_train, epochs=5, verbose=2, batch_size=BATCH_SIZE,\n",
    "                    shuffle=False, validation_data=(trim_dataset(x_t_val, BATCH_SIZE),\n",
    "                    trim_dataset(y_t_val, BATCH_SIZE)))"
   ]
  },
  {
   "cell_type": "code",
   "execution_count": 74,
   "metadata": {},
   "outputs": [],
   "source": [
    "from sklearn.metrics import accuracy_score, mean_squared_error"
   ]
  },
  {
   "cell_type": "code",
   "execution_count": 75,
   "metadata": {},
   "outputs": [
    {
     "name": "stdout",
     "output_type": "stream",
     "text": [
      "Error is 1.2862309892345019 (1470,) (1470,)\n"
     ]
    }
   ],
   "source": [
    "y_pred = lstm_model.predict(trim_dataset(x_t_test, BATCH_SIZE), batch_size=BATCH_SIZE)\n",
    "y_pred = y_pred.flatten()\n",
    "y_t_test = trim_dataset(y_t_test, BATCH_SIZE)\n",
    "error = mean_squared_error(y_t_test, y_pred)\n",
    "print(\"Error is\", error, y_pred.shape, y_t_test.shape)"
   ]
  },
  {
   "cell_type": "code",
   "execution_count": 76,
   "metadata": {},
   "outputs": [
    {
     "data": {
      "text/plain": [
       "<matplotlib.legend.Legend at 0x7fa3cad6e2d0>"
      ]
     },
     "execution_count": 76,
     "metadata": {},
     "output_type": "execute_result"
    },
    {
     "data": {
      "image/png": "[encoded data removed]",
      "text/plain": [
       "<Figure size 432x288 with 1 Axes>"
      ]
     },
     "metadata": {
      "needs_background": "light"
     },
     "output_type": "display_data"
    }
   ],
   "source": [
    "plt.figure()\n",
    "plt.plot(history.history['loss'])\n",
    "plt.plot(history.history['val_loss'])\n",
    "plt.title('Model loss')\n",
    "plt.ylabel('Loss')\n",
    "plt.xlabel('Epoch')\n",
    "plt.legend(['Train', 'Test'], loc='upper left')"
   ]
  },
  {
   "cell_type": "code",
   "execution_count": 77,
   "metadata": {},
   "outputs": [
    {
     "name": "stdout",
     "output_type": "stream",
     "text": [
      "[33.869934 33.871967 33.872707 33.874443 33.87461  33.877007 33.87913\n",
      " 33.879482 33.87941  33.88195  33.88248  33.88159  33.883583 33.882923\n",
      " 33.88312 ]\n",
      "[42.163 41.941 42.253 42.197 42.843 43.961 44.502 44.468 44.87  45.157\n",
      " 44.821 45.132 44.667 44.189 43.968]\n"
     ]
    }
   ],
   "source": [
    "y_pred_org = (y_pred * min_max_scaler.data_range_[3]) + min_max_scaler.data_min_[3] # min_max_scaler.inverse_transform(y_pred)\n",
    "y_test_t_org = (y_t_test * min_max_scaler.data_range_[3]) + min_max_scaler.data_min_[3] # min_max_scaler.inverse_transform(y_test_t)\n",
    "print(y_pred_org[0:15])\n",
    "print(y_test_t_org[0:15])"
   ]
  },
  {
   "cell_type": "code",
   "execution_count": 78,
   "metadata": {},
   "outputs": [
    {
     "data": {
      "text/plain": [
       "<matplotlib.legend.Legend at 0x7fa3cad8e9d0>"
      ]
     },
     "execution_count": 78,
     "metadata": {},
     "output_type": "execute_result"
    },
    {
     "data": {
      "image/png": "[encoded data removed]",
      "text/plain": [
       "<Figure size 432x288 with 1 Axes>"
      ]
     },
     "metadata": {
      "needs_background": "light"
     },
     "output_type": "display_data"
    }
   ],
   "source": [
    "plt.figure()\n",
    "plt.plot(y_pred_org)\n",
    "plt.plot(y_test_t_org)\n",
    "plt.title('Prediction vs Real Stock Price')\n",
    "plt.ylabel('Price')\n",
    "plt.xlabel('Days')\n",
    "plt.legend(['Prediction', 'Real'], loc='upper left')"
   ]
  },
  {
   "cell_type": "code",
   "execution_count": null,
   "metadata": {},
   "outputs": [],
   "source": []
  }
 ],
 "metadata": {
  "kernelspec": {
   "display_name": "venv_stock_predictor",
   "language": "python",
   "name": "venv_stock_predictor"
  },
  "language_info": {
   "codemirror_mode": {
    "name": "ipython",
    "version": 3
   },
   "file_extension": ".py",
   "mimetype": "text/x-python",
   "name": "python",
   "nbconvert_exporter": "python",
   "pygments_lexer": "ipython3",
   "version": "3.7.5rc1"
  }
 },
 "nbformat": 4,
 "nbformat_minor": 2
}
